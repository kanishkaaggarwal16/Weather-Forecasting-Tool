{
 "cells": [
  {
   "cell_type": "markdown",
   "id": "9d0c1eb9",
   "metadata": {},
   "source": [
    "# Weather Forecasting Tool"
   ]
  },
  {
   "cell_type": "code",
   "execution_count": 1,
   "id": "fa84557c",
   "metadata": {},
   "outputs": [],
   "source": [
    "import gradio as gr\n",
    "from gradio.components import Text\n",
    "from gradio import Interface\n",
    "import requests\n",
    "\n",
    "def get_weather_forecast(api_key, city):\n",
    "    base_url = \"http://api.openweathermap.org/data/2.5/weather\"\n",
    "    params = {\n",
    "        \"q\": city,\n",
    "        \"appid\": api_key,\n",
    "        \"units\": \"metric\"\n",
    "    }\n",
    "\n",
    "    try:\n",
    "        response = requests.get(base_url, params=params)\n",
    "        response.raise_for_status()  # Raises an exception if the request was unsuccessful\n",
    "\n",
    "        data = response.json()\n",
    "\n",
    "        # Extract relevant weather information\n",
    "        temperature = data[\"main\"][\"temp\"]\n",
    "        description = data[\"weather\"][0][\"description\"]\n",
    "        humidity = data[\"main\"][\"humidity\"]\n",
    "\n",
    "        # Format the weather forecast\n",
    "        forecast = f\"Weather forecast for {city}:\\n\"\n",
    "        forecast += f\"Temperature: {temperature}°C\\n\"\n",
    "        forecast += f\"Description: {description}\\n\"\n",
    "        forecast += f\"Humidity: {humidity}%\"\n",
    "\n",
    "        return forecast\n",
    "    except requests.exceptions.RequestException as e:\n",
    "        return \"Error: Failed to fetch weather data.\\n\" + str(e)\n",
    "\n",
    "def api_key_input_fn():\n",
    "    return gr.inputs.Textbox(label=\"API Key\")\n",
    "\n",
    "def city_input_fn():\n",
    "    return gr.inputs.Textbox(label=\"City\")\n"
   ]
  },
  {
   "cell_type": "code",
   "execution_count": 2,
   "id": "ecc0014c",
   "metadata": {},
   "outputs": [
    {
     "name": "stderr",
     "output_type": "stream",
     "text": [
      "C:\\Users\\hp\\anaconda3\\lib\\site-packages\\gradio\\inputs.py:27: UserWarning: Usage of gradio.inputs is deprecated, and will not be supported in the future, please import your component from gradio.components\n",
      "  warnings.warn(\n",
      "C:\\Users\\hp\\anaconda3\\lib\\site-packages\\gradio\\inputs.py:30: UserWarning: `optional` parameter is deprecated, and it has no effect\n",
      "  super().__init__(\n",
      "C:\\Users\\hp\\anaconda3\\lib\\site-packages\\gradio\\inputs.py:30: UserWarning: `numeric` parameter is deprecated, and it has no effect\n",
      "  super().__init__(\n"
     ]
    },
    {
     "name": "stdout",
     "output_type": "stream",
     "text": [
      "Running on local URL:  http://127.0.0.1:7860\n",
      "\n",
      "To create a public link, set `share=True` in `launch()`.\n"
     ]
    },
    {
     "data": {
      "text/html": [
       "<div><iframe src=\"http://127.0.0.1:7860/\" width=\"100%\" height=\"500\" allow=\"autoplay; camera; microphone; clipboard-read; clipboard-write;\" frameborder=\"0\" allowfullscreen></iframe></div>"
      ],
      "text/plain": [
       "<IPython.core.display.HTML object>"
      ]
     },
     "metadata": {},
     "output_type": "display_data"
    },
    {
     "data": {
      "text/plain": []
     },
     "execution_count": 2,
     "metadata": {},
     "output_type": "execute_result"
    }
   ],
   "source": [
    "iface = gr.Interface(\n",
    "    fn=get_weather_forecast,\n",
    "    inputs=[api_key_input_fn(), city_input_fn()],\n",
    "    outputs=\"text\",\n",
    "    title=\"Weather Forecasting\",\n",
    "    description=\"Enter your OpenWeatherMap API key and the city name to get the weather forecast.\",\n",
    "    allow_flagging=\"manual\"\n",
    ")\n",
    "\n",
    "# Run the interface\n",
    "iface.launch()"
   ]
  },
  {
   "cell_type": "code",
   "execution_count": 3,
   "id": "c30a3610",
   "metadata": {},
   "outputs": [],
   "source": [
    "#f8147a5723d22e268d71e4524db5c84d"
   ]
  }
 ],
 "metadata": {
  "kernelspec": {
   "display_name": "Python 3 (ipykernel)",
   "language": "python",
   "name": "python3"
  },
  "language_info": {
   "codemirror_mode": {
    "name": "ipython",
    "version": 3
   },
   "file_extension": ".py",
   "mimetype": "text/x-python",
   "name": "python",
   "nbconvert_exporter": "python",
   "pygments_lexer": "ipython3",
   "version": "3.9.16"
  }
 },
 "nbformat": 4,
 "nbformat_minor": 5
}
